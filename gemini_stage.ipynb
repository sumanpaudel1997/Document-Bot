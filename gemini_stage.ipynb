{
 "cells": [
  {
   "cell_type": "code",
   "execution_count": 4,
   "metadata": {},
   "outputs": [],
   "source": [
    "from IPython.display import display\n",
    "from IPython.display import Markdown\n",
    "import textwrap\n",
    "\n",
    "\n",
    "def to_markdown(text):\n",
    "  text = text.replace('•', '  *')\n",
    "  return Markdown(textwrap.indent(text, '> ', predicate=lambda _: True))"
   ]
  },
  {
   "cell_type": "code",
   "execution_count": 5,
   "metadata": {},
   "outputs": [],
   "source": [
    "import google.generativeai as genai"
   ]
  },
  {
   "cell_type": "code",
   "execution_count": 6,
   "metadata": {},
   "outputs": [],
   "source": [
    "import os\n",
    "genai.configure(api_key=os.environ.get(\"GOOGLE_API_KEY\"))\n"
   ]
  },
  {
   "cell_type": "code",
   "execution_count": 7,
   "metadata": {},
   "outputs": [],
   "source": [
    "model = genai.GenerativeModel(model_name = \"gemini-pro\")"
   ]
  },
  {
   "cell_type": "code",
   "execution_count": 5,
   "metadata": {},
   "outputs": [],
   "source": [
    "prompt_parts = [\n",
    "    \"gimme some extentions or ways so that I can generate docs for python functions and explain it to me\",\n",
    "]\n",
    "\n",
    "response = model.generate_content(prompt_parts)"
   ]
  },
  {
   "cell_type": "code",
   "execution_count": 6,
   "metadata": {},
   "outputs": [
    {
     "name": "stdout",
     "output_type": "stream",
     "text": [
      "**Extensions:**\n",
      "\n",
      "* **Sphinx:** A powerful documentation generator that supports various extensions for Python documentation.\n",
      "* **mkdocstrings:** A lightweight and customizable extension that generates documentation directly from docstrings.\n",
      "* **sphinx-automodapi:** Automatically generates documentation for Python modules and functions.\n",
      "* **sphinxcontrib-autodoc-typehints:** Extends Sphinx to support type hints in documentation generation.\n",
      "* **sphinx-apidoc:** Generates documentation from source code without requiring docstrings.\n",
      "\n",
      "**Usage:**\n",
      "\n",
      "To use these extensions, install them in your Python environment and then configure them in your Sphinx configuration file (`conf.py`):\n",
      "\n",
      "```python\n",
      "extensions = ['sphinx.ext.autodoc', 'sphinx_automodapi.automodapi']\n",
      "```\n",
      "\n",
      "**Explanation:**\n",
      "\n",
      "These extensions work by introspecting the Python code and generating documentation based on docstrings, type hints, and other metadata. They follow the conventions of the Python documentation style to create well-organized and informative documentation:\n",
      "\n",
      "* **Module Documentation:** Sphinx and other extensions can generate documentation for individual Python modules, including a description, functions, classes, and attributes.\n",
      "* **Function Documentation:** Extensions like mkdocstrings extract documentation from function docstrings, including parameters, return values, and examples.\n",
      "* **Type Hinting:** Extensions such as sphinxcontrib-autodoc-typehints integrate type hints into the documentation, providing additional information about function signatures and return values.\n",
      "* **Automatic Documentation:** sphinx-apidoc can automatically generate documentation without requiring docstrings. It parses source code and infers documentation from code annotations and comments.\n",
      "\n",
      "**Benefits:**\n",
      "\n",
      "* **Improved Readability and Understanding:** Well-documented code makes it easier for others to understand and use your functions.\n",
      "* **Enhanced Code Maintenance:** Documentation helps maintain code consistency and reduces the need for additional comments.\n",
      "* **Developer Productivity:** Extensions like mkdocstrings and sphinx-automodapi can significantly speed up documentation creation, freeing up developers for other tasks.\n",
      "* **API Compatibility:** By following Python documentation conventions, your documentation can be easily integrated with other API documentation tools and libraries.\n"
     ]
    }
   ],
   "source": [
    "print(response.text)"
   ]
  },
  {
   "cell_type": "code",
   "execution_count": 8,
   "metadata": {},
   "outputs": [],
   "source": [
    "\n",
    "from langchain_google_genai import ChatGoogleGenerativeAI\n"
   ]
  },
  {
   "cell_type": "code",
   "execution_count": 9,
   "metadata": {},
   "outputs": [
    {
     "data": {
      "text/plain": [
       "\"**Best Practices for Keeping Fit**\\n\\n**1. Regular Exercise:**\\n\\n* Aim for at least 150 minutes of moderate-intensity aerobic activity or 75 minutes of vigorous-intensity aerobic activity per week.\\n* Engage in a variety of activities to target different muscle groups and improve overall fitness.\\n* Choose activities that you enjoy to make exercise sustainable.\\n\\n**2. Balanced Nutrition:**\\n\\n* Consume a nutrient-rich diet high in fruits, vegetables, whole grains, and lean protein.\\n* Limit processed foods, sugary drinks, and unhealthy fats.\\n* Stay hydrated by drinking plenty of water throughout the day.\\n\\n**3. Adequate Rest:**\\n\\n* Get 7-9 hours of quality sleep each night.\\n* Rest allows your body to repair and recover from exercise.\\n* Avoid overtraining and listen to your body's signals.\\n\\n**4. Stress Management:**\\n\\n* Engage in stress-reducing activities such as yoga, meditation, or spending time in nature.\\n* Chronic stress can interfere with fitness goals by suppressing the immune system and reducing motivation.\\n\\n**5. Consistency:**\\n\\n* Make exercise a regular part of your routine.\\n* Schedule workouts and stick to them as much as possible.\\n* Even short bursts of activity can contribute to your overall fitness.\\n\\n**6. Progressive Overload:**\\n\\n* Gradually increase the intensity, duration, or frequency of your workouts over time.\\n* This challenges your body and helps you continue to improve.\\n\\n**7. Variety:**\\n\\n* Mix up your workouts to avoid boredom and target different muscle groups.\\n* Try new activities or incorporate variations into your existing routine.\\n\\n**8. Accountability:**\\n\\n* Find a workout buddy, join a fitness class, or hire a personal trainer for support and motivation.\\n* Share your fitness goals with others to stay accountable.\\n\\n**9. Goal Setting:**\\n\\n* Set realistic fitness goals that are specific, measurable, attainable, relevant, and time-bound (SMART).\\n* Track your progress and adjust your plan as needed.\\n\\n**10. Enjoy the Process:**\\n\\n* Find activities that you genuinely enjoy.\\n* Focus on the positive benefits of exercise, such as improved mood, energy levels, and overall well-being.\""
      ]
     },
     "execution_count": 9,
     "metadata": {},
     "output_type": "execute_result"
    }
   ],
   "source": [
    "llm = ChatGoogleGenerativeAI(model=\"gemini-pro\")\n",
    "result = llm.invoke(\"What is the best practice to keep fit?\")\n",
    "result.content"
   ]
  },
  {
   "cell_type": "code",
   "execution_count": 10,
   "metadata": {},
   "outputs": [
    {
     "data": {
      "text/markdown": [
       "> **Best Practices for Keeping Fit**\n",
       "> \n",
       "> **1. Regular Exercise:**\n",
       "> \n",
       "> * Aim for at least 150 minutes of moderate-intensity aerobic activity or 75 minutes of vigorous-intensity aerobic activity per week.\n",
       "> * Engage in a variety of activities to target different muscle groups and improve overall fitness.\n",
       "> * Choose activities that you enjoy to make exercise sustainable.\n",
       "> \n",
       "> **2. Balanced Nutrition:**\n",
       "> \n",
       "> * Consume a nutrient-rich diet high in fruits, vegetables, whole grains, and lean protein.\n",
       "> * Limit processed foods, sugary drinks, and unhealthy fats.\n",
       "> * Stay hydrated by drinking plenty of water throughout the day.\n",
       "> \n",
       "> **3. Adequate Rest:**\n",
       "> \n",
       "> * Get 7-9 hours of quality sleep each night.\n",
       "> * Rest allows your body to repair and recover from exercise.\n",
       "> * Avoid overtraining and listen to your body's signals.\n",
       "> \n",
       "> **4. Stress Management:**\n",
       "> \n",
       "> * Engage in stress-reducing activities such as yoga, meditation, or spending time in nature.\n",
       "> * Chronic stress can interfere with fitness goals by suppressing the immune system and reducing motivation.\n",
       "> \n",
       "> **5. Consistency:**\n",
       "> \n",
       "> * Make exercise a regular part of your routine.\n",
       "> * Schedule workouts and stick to them as much as possible.\n",
       "> * Even short bursts of activity can contribute to your overall fitness.\n",
       "> \n",
       "> **6. Progressive Overload:**\n",
       "> \n",
       "> * Gradually increase the intensity, duration, or frequency of your workouts over time.\n",
       "> * This challenges your body and helps you continue to improve.\n",
       "> \n",
       "> **7. Variety:**\n",
       "> \n",
       "> * Mix up your workouts to avoid boredom and target different muscle groups.\n",
       "> * Try new activities or incorporate variations into your existing routine.\n",
       "> \n",
       "> **8. Accountability:**\n",
       "> \n",
       "> * Find a workout buddy, join a fitness class, or hire a personal trainer for support and motivation.\n",
       "> * Share your fitness goals with others to stay accountable.\n",
       "> \n",
       "> **9. Goal Setting:**\n",
       "> \n",
       "> * Set realistic fitness goals that are specific, measurable, attainable, relevant, and time-bound (SMART).\n",
       "> * Track your progress and adjust your plan as needed.\n",
       "> \n",
       "> **10. Enjoy the Process:**\n",
       "> \n",
       "> * Find activities that you genuinely enjoy.\n",
       "> * Focus on the positive benefits of exercise, such as improved mood, energy levels, and overall well-being."
      ],
      "text/plain": [
       "<IPython.core.display.Markdown object>"
      ]
     },
     "execution_count": 10,
     "metadata": {},
     "output_type": "execute_result"
    }
   ],
   "source": [
    "to_markdown(result.content)"
   ]
  },
  {
   "cell_type": "code",
   "execution_count": 11,
   "metadata": {},
   "outputs": [
    {
     "data": {
      "text/plain": [
       "ChatSession(\n",
       "    model=genai.GenerativeModel(\n",
       "        model_name='models/gemini-pro',\n",
       "        generation_config={},\n",
       "        safety_settings={},\n",
       "        tools=None,\n",
       "    ),\n",
       "    history=[]\n",
       ")"
      ]
     },
     "execution_count": 11,
     "metadata": {},
     "output_type": "execute_result"
    }
   ],
   "source": [
    "model = genai.GenerativeModel('gemini-pro')\n",
    "chat = model.start_chat(history=[])\n",
    "chat"
   ]
  },
  {
   "cell_type": "code",
   "execution_count": 12,
   "metadata": {},
   "outputs": [
    {
     "data": {
      "text/plain": [
       "response:\n",
       "GenerateContentResponse(\n",
       "    done=True,\n",
       "    iterator=None,\n",
       "    result=glm.GenerateContentResponse({'candidates': [{'content': {'parts': [{'text': '**Mixture of Expert (MoE) Model**\\n\\nA Mixture of Expert (MoE) model is a type of machine learning model that combines multiple individual \"expert\" models to make predictions. Each expert model is trained on a different subset of the data or features.\\n\\n**How it Works:**\\n\\n1. The input data is passed through a **gating network**.\\n2. The gating network determines the probability distribution over which expert model should be used for each data point.\\n3. The selected expert model makes predictions for the data point.\\n4. The predictions from the individual expert models are combined to form the final prediction.\\n\\n**Advantages of MoE Models:**\\n\\n* **Improved accuracy:** By combining multiple expert models, MoEs can leverage the strengths of each individual model to make more accurate predictions.\\n* **Scalability:** MoEs can be trained on large datasets by distributing the training load across multiple expert models.\\n* **Efficient inference:** MoEs allow for efficient inference by only using the necessary expert models for each data point, reducing computational costs.\\n* **Flexibility:** MoEs can be easily updated with new expert models or adjusted based on changing data distributions.\\n\\n**Architecture:**\\n\\nTypically, a MoE model consists of the following components:\\n\\n* **Data splitting:** The data is divided into subsets by features or data points.\\n* **Expert models:** Multiple individual models are trained on different subsets of the data.\\n* **Gating network:** This network determines which expert model to use for each data point based on its features or probability distribution.\\n* **Combination function:** The predictions from the expert models are combined to form the final prediction, which can be a weighted average or other aggregation method.\\n\\n**Applications:**\\n\\nMoE models have been used successfully in various applications, including:\\n\\n* Natural language processing\\n* Computer vision\\n* Speech recognition\\n* Recommendation systems'}], 'role': 'model'}, 'finish_reason': 1, 'index': 0, 'safety_ratings': [{'category': 9, 'probability': 1, 'blocked': False}, {'category': 8, 'probability': 1, 'blocked': False}, {'category': 7, 'probability': 1, 'blocked': False}, {'category': 10, 'probability': 1, 'blocked': False}], 'token_count': 0, 'grounding_attributions': []}], 'prompt_feedback': {'safety_ratings': [{'category': 9, 'probability': 1, 'blocked': False}, {'category': 8, 'probability': 1, 'blocked': False}, {'category': 7, 'probability': 1, 'blocked': False}, {'category': 10, 'probability': 1, 'blocked': False}], 'block_reason': 0}}),\n",
       ")"
      ]
     },
     "execution_count": 12,
     "metadata": {},
     "output_type": "execute_result"
    }
   ],
   "source": [
    "\n",
    "response = chat.send_message(\"What is mixture of expert model?\")\n",
    "response"
   ]
  },
  {
   "cell_type": "code",
   "execution_count": 13,
   "metadata": {},
   "outputs": [
    {
     "data": {
      "text/markdown": [
       "> **Mixture of Expert (MoE) Model**\n",
       "> \n",
       "> A Mixture of Expert (MoE) model is a type of machine learning model that combines multiple individual \"expert\" models to make predictions. Each expert model is trained on a different subset of the data or features.\n",
       "> \n",
       "> **How it Works:**\n",
       "> \n",
       "> 1. The input data is passed through a **gating network**.\n",
       "> 2. The gating network determines the probability distribution over which expert model should be used for each data point.\n",
       "> 3. The selected expert model makes predictions for the data point.\n",
       "> 4. The predictions from the individual expert models are combined to form the final prediction.\n",
       "> \n",
       "> **Advantages of MoE Models:**\n",
       "> \n",
       "> * **Improved accuracy:** By combining multiple expert models, MoEs can leverage the strengths of each individual model to make more accurate predictions.\n",
       "> * **Scalability:** MoEs can be trained on large datasets by distributing the training load across multiple expert models.\n",
       "> * **Efficient inference:** MoEs allow for efficient inference by only using the necessary expert models for each data point, reducing computational costs.\n",
       "> * **Flexibility:** MoEs can be easily updated with new expert models or adjusted based on changing data distributions.\n",
       "> \n",
       "> **Architecture:**\n",
       "> \n",
       "> Typically, a MoE model consists of the following components:\n",
       "> \n",
       "> * **Data splitting:** The data is divided into subsets by features or data points.\n",
       "> * **Expert models:** Multiple individual models are trained on different subsets of the data.\n",
       "> * **Gating network:** This network determines which expert model to use for each data point based on its features or probability distribution.\n",
       "> * **Combination function:** The predictions from the expert models are combined to form the final prediction, which can be a weighted average or other aggregation method.\n",
       "> \n",
       "> **Applications:**\n",
       "> \n",
       "> MoE models have been used successfully in various applications, including:\n",
       "> \n",
       "> * Natural language processing\n",
       "> * Computer vision\n",
       "> * Speech recognition\n",
       "> * Recommendation systems"
      ],
      "text/plain": [
       "<IPython.core.display.Markdown object>"
      ]
     },
     "execution_count": 13,
     "metadata": {},
     "output_type": "execute_result"
    }
   ],
   "source": [
    "to_markdown(response.text)"
   ]
  },
  {
   "cell_type": "code",
   "execution_count": 14,
   "metadata": {},
   "outputs": [
    {
     "data": {
      "text/plain": [
       "[index: 0\n",
       "content {\n",
       "  parts {\n",
       "    text: \"**Understanding Anger**\\n\\nAnger is a normal human emotion that can be triggered by a variety of situations. It\\'s important to understand that it\\'s okay to feel anger, but it\\'s not okay to act on it in a harmful way.\\n\\n**Causes of Anger**\\n\\nAnger can be caused by many factors, including:\\n\\n* Feeling threatened or attacked\\n* Frustration or disappointment\\n* Injustice or unfairness\\n* Feeling overwhelmed or stressed\\n\\n**Managing Anger**\\n\\nThere are healthy ways to manage anger, such as:\\n\\n* **Taking a break:** Step away from the situation and give yourself some time to calm down.\\n* **Expressing your feelings:** Talk to someone you trust about what you\\'re feeling. Writing or drawing can also be helpful in expressing your anger.\\n* **Exercising:** Physical activity can help release pent-up energy and reduce stress.\\n* **Mindfulness:** Pay attention to your thoughts and emotions without judgment. This can help you better understand your triggers and develop coping mechanisms.\\n* **Cognitive restructuring:** Challenge the negative thoughts that are fueling your anger. Replace them with more positive or realistic ones.\\n* **Learning relaxation techniques:** Deep breathing, meditation, or yoga can help you calm down and reduce stress.\\n\\n**Avoiding Unhealthy Ways to Express Anger**\\n\\nIt\\'s important to avoid expressing anger in unhealthy ways, such as:\\n\\n* **Violence:** Never use violence to express anger. It\\'s dangerous and illegal.\\n* **Verbal abuse:** Screaming, cursing, or insulting others only makes the situation worse.\\n* **Passive-aggressive behavior:** Indirectly expressing anger through sarcasm, manipulation, or avoidance can damage relationships.\\n\\n**Seeking Help**\\n\\nIf you\\'re struggling to manage your anger, consider seeking professional help. A therapist can help you understand the cause of your anger, develop coping mechanisms, and improve your relationships.\"\n",
       "  }\n",
       "  role: \"model\"\n",
       "}\n",
       "finish_reason: STOP\n",
       "safety_ratings {\n",
       "  category: HARM_CATEGORY_SEXUALLY_EXPLICIT\n",
       "  probability: NEGLIGIBLE\n",
       "}\n",
       "safety_ratings {\n",
       "  category: HARM_CATEGORY_HATE_SPEECH\n",
       "  probability: NEGLIGIBLE\n",
       "}\n",
       "safety_ratings {\n",
       "  category: HARM_CATEGORY_HARASSMENT\n",
       "  probability: NEGLIGIBLE\n",
       "}\n",
       "safety_ratings {\n",
       "  category: HARM_CATEGORY_DANGEROUS_CONTENT\n",
       "  probability: NEGLIGIBLE\n",
       "}\n",
       "]"
      ]
     },
     "execution_count": 14,
     "metadata": {},
     "output_type": "execute_result"
    }
   ],
   "source": [
    "response = model.generate_content('I am very anger')\n",
    "response.candidates"
   ]
  },
  {
   "cell_type": "code",
   "execution_count": 15,
   "metadata": {},
   "outputs": [
    {
     "data": {
      "text/plain": [
       "safety_ratings {\n",
       "  category: HARM_CATEGORY_SEXUALLY_EXPLICIT\n",
       "  probability: NEGLIGIBLE\n",
       "}\n",
       "safety_ratings {\n",
       "  category: HARM_CATEGORY_HATE_SPEECH\n",
       "  probability: NEGLIGIBLE\n",
       "}\n",
       "safety_ratings {\n",
       "  category: HARM_CATEGORY_HARASSMENT\n",
       "  probability: NEGLIGIBLE\n",
       "}\n",
       "safety_ratings {\n",
       "  category: HARM_CATEGORY_DANGEROUS_CONTENT\n",
       "  probability: NEGLIGIBLE\n",
       "}"
      ]
     },
     "execution_count": 15,
     "metadata": {},
     "output_type": "execute_result"
    }
   ],
   "source": [
    "response.prompt_feedback"
   ]
  },
  {
   "cell_type": "code",
   "execution_count": null,
   "metadata": {},
   "outputs": [],
   "source": []
  }
 ],
 "metadata": {
  "kernelspec": {
   "display_name": "venv",
   "language": "python",
   "name": "python3"
  },
  "language_info": {
   "codemirror_mode": {
    "name": "ipython",
    "version": 3
   },
   "file_extension": ".py",
   "mimetype": "text/x-python",
   "name": "python",
   "nbconvert_exporter": "python",
   "pygments_lexer": "ipython3",
   "version": "3.10.13"
  }
 },
 "nbformat": 4,
 "nbformat_minor": 2
}
